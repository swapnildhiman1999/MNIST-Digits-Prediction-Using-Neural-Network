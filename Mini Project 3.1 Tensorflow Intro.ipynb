{
 "cells": [
  {
   "cell_type": "code",
   "execution_count": 2,
   "id": "647dd126",
   "metadata": {},
   "outputs": [],
   "source": [
    "import tensorflow as tf"
   ]
  },
  {
   "cell_type": "code",
   "execution_count": 4,
   "id": "23638911",
   "metadata": {
    "scrolled": true
   },
   "outputs": [
    {
     "ename": "AttributeError",
     "evalue": "module 'tensorflow' has no attribute 'Session'",
     "output_type": "error",
     "traceback": [
      "\u001b[1;31m---------------------------------------------------------------------------\u001b[0m",
      "\u001b[1;31mAttributeError\u001b[0m                            Traceback (most recent call last)",
      "\u001b[1;32m<ipython-input-4-52c3a2558556>\u001b[0m in \u001b[0;36m<module>\u001b[1;34m\u001b[0m\n\u001b[0;32m      1\u001b[0m \u001b[0ma\u001b[0m\u001b[1;33m=\u001b[0m\u001b[0mtf\u001b[0m\u001b[1;33m.\u001b[0m\u001b[0mconstant\u001b[0m\u001b[1;33m(\u001b[0m\u001b[1;36m2\u001b[0m\u001b[1;33m)\u001b[0m\u001b[1;33m\u001b[0m\u001b[1;33m\u001b[0m\u001b[0m\n\u001b[1;32m----> 2\u001b[1;33m \u001b[0msess\u001b[0m\u001b[1;33m=\u001b[0m\u001b[0mtf\u001b[0m\u001b[1;33m.\u001b[0m\u001b[0mSession\u001b[0m\u001b[1;33m(\u001b[0m\u001b[1;33m)\u001b[0m\u001b[1;33m\u001b[0m\u001b[1;33m\u001b[0m\u001b[0m\n\u001b[0m\u001b[0;32m      3\u001b[0m \u001b[0msess\u001b[0m\u001b[1;33m.\u001b[0m\u001b[0mrun\u001b[0m\u001b[1;33m(\u001b[0m\u001b[0ma\u001b[0m\u001b[1;33m)\u001b[0m\u001b[1;33m\u001b[0m\u001b[1;33m\u001b[0m\u001b[0m\n",
      "\u001b[1;31mAttributeError\u001b[0m: module 'tensorflow' has no attribute 'Session'"
     ]
    }
   ],
   "source": [
    "a=tf.constant(2)\n",
    "sess=tf.Session()\n",
    "sess.run(a)"
   ]
  },
  {
   "cell_type": "code",
   "execution_count": 6,
   "id": "ba6784e9",
   "metadata": {},
   "outputs": [
    {
     "name": "stdout",
     "output_type": "stream",
     "text": [
      "Collecting pip\n",
      "  Downloading https://files.pythonhosted.org/packages/47/ca/f0d790b6e18b3a6f3bd5e80c2ee4edbb5807286c21cdd0862ca933f751dd/pip-21.1.3-py3-none-any.whl (1.5MB)\n"
     ]
    },
    {
     "name": "stderr",
     "output_type": "stream",
     "text": [
      "ERROR: To modify pip, please run the following command:\n",
      "C:\\Users\\SWAPNIL DHIMAN\\.conda\\envs\\gputest\\python.exe -m pip install --upgrade pip\n"
     ]
    }
   ],
   "source": [
    "!pip install --upgrade pip"
   ]
  },
  {
   "cell_type": "code",
   "execution_count": 7,
   "id": "f65fee0e",
   "metadata": {},
   "outputs": [
    {
     "name": "stdout",
     "output_type": "stream",
     "text": [
      "Collecting tensorflow==2.0.0-alpha0\n",
      "  Downloading https://files.pythonhosted.org/packages/c7/90/cf5e7fbf4a3c14b314e1ed6571eae1f9ad3b5e32a4e24b2b817466435a21/tensorflow-2.0.0a0-cp37-cp37m-win_amd64.whl (49.4MB)\n",
      "Requirement already satisfied: keras-preprocessing>=1.0.5 in c:\\users\\swapnil dhiman\\.conda\\envs\\gputest\\lib\\site-packages (from tensorflow==2.0.0-alpha0) (1.1.0)\n",
      "Requirement already satisfied: six>=1.10.0 in c:\\users\\swapnil dhiman\\.conda\\envs\\gputest\\lib\\site-packages (from tensorflow==2.0.0-alpha0) (1.13.0)\n",
      "Requirement already satisfied: protobuf>=3.6.1 in c:\\users\\swapnil dhiman\\.conda\\envs\\gputest\\lib\\site-packages (from tensorflow==2.0.0-alpha0) (3.11.2)\n",
      "Requirement already satisfied: google-pasta>=0.1.2 in c:\\users\\swapnil dhiman\\.conda\\envs\\gputest\\lib\\site-packages (from tensorflow==2.0.0-alpha0) (0.1.8)\n",
      "Requirement already satisfied: wheel>=0.26 in c:\\users\\swapnil dhiman\\.conda\\envs\\gputest\\lib\\site-packages (from tensorflow==2.0.0-alpha0) (0.33.6)\n",
      "Collecting tf-estimator-nightly<1.14.0.dev2019030116,>=1.14.0.dev2019030115\n",
      "  Downloading https://files.pythonhosted.org/packages/13/82/f16063b4eed210dc2ab057930ac1da4fbe1e91b7b051a6c8370b401e6ae7/tf_estimator_nightly-1.14.0.dev2019030115-py2.py3-none-any.whl (411kB)\n",
      "Requirement already satisfied: numpy<2.0,>=1.14.5 in c:\\users\\swapnil dhiman\\.conda\\envs\\gputest\\lib\\site-packages (from tensorflow==2.0.0-alpha0) (1.17.4)\n",
      "Requirement already satisfied: grpcio>=1.8.6 in c:\\users\\swapnil dhiman\\.conda\\envs\\gputest\\lib\\site-packages (from tensorflow==2.0.0-alpha0) (1.16.1)\n",
      "Requirement already satisfied: keras-applications>=1.0.6 in c:\\users\\swapnil dhiman\\.conda\\envs\\gputest\\lib\\site-packages (from tensorflow==2.0.0-alpha0) (1.0.8)\n",
      "Requirement already satisfied: gast>=0.2.0 in c:\\users\\swapnil dhiman\\.conda\\envs\\gputest\\lib\\site-packages (from tensorflow==2.0.0-alpha0) (0.2.2)\n",
      "Requirement already satisfied: astor>=0.6.0 in c:\\users\\swapnil dhiman\\.conda\\envs\\gputest\\lib\\site-packages (from tensorflow==2.0.0-alpha0) (0.8.0)\n",
      "Requirement already satisfied: termcolor>=1.1.0 in c:\\users\\swapnil dhiman\\.conda\\envs\\gputest\\lib\\site-packages (from tensorflow==2.0.0-alpha0) (1.1.0)\n",
      "Collecting tb-nightly<1.14.0a20190302,>=1.14.0a20190301\n",
      "  Downloading https://files.pythonhosted.org/packages/a9/51/aa1d756644bf4624c03844115e4ac4058eff77acd786b26315f051a4b195/tb_nightly-1.14.0a20190301-py3-none-any.whl (3.0MB)\n",
      "Requirement already satisfied: absl-py>=0.7.0 in c:\\users\\swapnil dhiman\\.conda\\envs\\gputest\\lib\\site-packages (from tensorflow==2.0.0-alpha0) (0.8.1)\n",
      "Requirement already satisfied: setuptools in c:\\users\\swapnil dhiman\\.conda\\envs\\gputest\\lib\\site-packages (from protobuf>=3.6.1->tensorflow==2.0.0-alpha0) (42.0.2.post20191203)\n",
      "Requirement already satisfied: h5py in c:\\users\\swapnil dhiman\\.conda\\envs\\gputest\\lib\\site-packages (from keras-applications>=1.0.6->tensorflow==2.0.0-alpha0) (2.9.0)\n",
      "Requirement already satisfied: werkzeug>=0.11.15 in c:\\users\\swapnil dhiman\\.conda\\envs\\gputest\\lib\\site-packages (from tb-nightly<1.14.0a20190302,>=1.14.0a20190301->tensorflow==2.0.0-alpha0) (0.16.0)\n",
      "Requirement already satisfied: markdown>=2.6.8 in c:\\users\\swapnil dhiman\\.conda\\envs\\gputest\\lib\\site-packages (from tb-nightly<1.14.0a20190302,>=1.14.0a20190301->tensorflow==2.0.0-alpha0) (3.1.1)\n",
      "Installing collected packages: tf-estimator-nightly, tb-nightly, tensorflow\n",
      "  Found existing installation: tensorflow 2.0.0\n",
      "    Uninstalling tensorflow-2.0.0:\n",
      "      Successfully uninstalled tensorflow-2.0.0\n"
     ]
    },
    {
     "name": "stderr",
     "output_type": "stream",
     "text": [
      "ERROR: Could not install packages due to an EnvironmentError: [WinError 5] Access is denied: 'c:\\\\users\\\\swapnil dhiman\\\\.conda\\\\envs\\\\gputest\\\\lib\\\\site-packages\\\\tensorflow_core\\\\~ite\\\\experimental\\\\microfrontend\\\\python\\\\ops\\\\_audio_microfrontend_op.so'\n",
      "Consider using the `--user` option or check the permissions.\n",
      "\n"
     ]
    }
   ],
   "source": [
    "!pip install tensorflow==2.0.0-alpha0"
   ]
  },
  {
   "cell_type": "code",
   "execution_count": 9,
   "id": "411ddc6e",
   "metadata": {},
   "outputs": [
    {
     "name": "stdout",
     "output_type": "stream",
     "text": [
      "Requirement already satisfied: keras in c:\\users\\swapnil dhiman\\.conda\\envs\\gputest\\lib\\site-packages (2.3.1)\n",
      "Requirement already satisfied: h5py in c:\\users\\swapnil dhiman\\.conda\\envs\\gputest\\lib\\site-packages (from keras) (2.9.0)\n",
      "Requirement already satisfied: six>=1.9.0 in c:\\users\\swapnil dhiman\\.conda\\envs\\gputest\\lib\\site-packages (from keras) (1.13.0)\n",
      "Requirement already satisfied: pyyaml in c:\\users\\swapnil dhiman\\.conda\\envs\\gputest\\lib\\site-packages (from keras) (5.2)\n",
      "Requirement already satisfied: numpy>=1.9.1 in c:\\users\\swapnil dhiman\\.conda\\envs\\gputest\\lib\\site-packages (from keras) (1.17.4)\n",
      "Requirement already satisfied: scipy>=0.14 in c:\\users\\swapnil dhiman\\.conda\\envs\\gputest\\lib\\site-packages (from keras) (1.4.1)\n",
      "Requirement already satisfied: keras-applications>=1.0.6 in c:\\users\\swapnil dhiman\\.conda\\envs\\gputest\\lib\\site-packages (from keras) (1.0.8)\n",
      "Requirement already satisfied: keras-preprocessing>=1.0.5 in c:\\users\\swapnil dhiman\\.conda\\envs\\gputest\\lib\\site-packages (from keras) (1.1.0)\n"
     ]
    }
   ],
   "source": [
    "!pip install keras"
   ]
  },
  {
   "cell_type": "code",
   "execution_count": 10,
   "id": "90910458",
   "metadata": {},
   "outputs": [
    {
     "name": "stdout",
     "output_type": "stream",
     "text": [
      "Collecting numpy==1.16.2\n",
      "  Downloading https://files.pythonhosted.org/packages/3a/3c/515afabfe4f29bfc0a67037efaf518c33d0076b32d22ba865241cee295c4/numpy-1.16.2-cp37-cp37m-win_amd64.whl (11.9MB)\n",
      "Installing collected packages: numpy\n",
      "  Found existing installation: numpy 1.17.4\n",
      "    Uninstalling numpy-1.17.4:\n",
      "      Successfully uninstalled numpy-1.17.4\n"
     ]
    },
    {
     "name": "stderr",
     "output_type": "stream",
     "text": [
      "ERROR: Could not install packages due to an EnvironmentError: [WinError 5] Access is denied: 'c:\\\\users\\\\swapnil dhiman\\\\.conda\\\\envs\\\\gputest\\\\lib\\\\site-packages\\\\~umpy\\\\core\\\\_multiarray_tests.cp37-win_amd64.pyd'\n",
      "Consider using the `--user` option or check the permissions.\n",
      "\n"
     ]
    }
   ],
   "source": [
    "!pip install numpy==1.16.2"
   ]
  },
  {
   "cell_type": "code",
   "execution_count": 11,
   "id": "f4a28f77",
   "metadata": {},
   "outputs": [],
   "source": [
    "import tensorflow as tf"
   ]
  },
  {
   "cell_type": "code",
   "execution_count": 22,
   "id": "a30f4ff6",
   "metadata": {},
   "outputs": [
    {
     "name": "stdout",
     "output_type": "stream",
     "text": [
      "7\n"
     ]
    }
   ],
   "source": [
    "with tf.compat.v1.Session() as sess:\n",
    "    a=tf.constant(2)\n",
    "    b=tf.constant(5)\n",
    "    c=a+b\n",
    "    result=sess.run(c)\n",
    "    print(result)"
   ]
  },
  {
   "cell_type": "code",
   "execution_count": 35,
   "id": "301895b1",
   "metadata": {},
   "outputs": [
    {
     "name": "stdout",
     "output_type": "stream",
     "text": [
      "<class 'tensorflow.python.framework.ops.Tensor'>\n",
      "3\n"
     ]
    }
   ],
   "source": [
    "a=tf.constant(2)\n",
    "print(type(a)\n",
    "a=tf.constant(3)\n",
    "with tf.compat.v1.Session()  as sess:\n",
    "    a=tf.constant(2)\n",
    "    a\n",
    "    a=tf.constant(3)\n",
    "    print(sess.run(a))\n",
    "    #we can write print(a.eval())"
   ]
  },
  {
   "cell_type": "code",
   "execution_count": 53,
   "id": "a0989dc5",
   "metadata": {},
   "outputs": [
    {
     "name": "stdout",
     "output_type": "stream",
     "text": [
      "106.2\n",
      "2006.2\n"
     ]
    }
   ],
   "source": [
    "#variables\n",
    "\n",
    "with tf.compat.v1.Session()  as sess:\n",
    "    var1=tf.Variable(100.6)\n",
    "    var2=tf.Variable(5.6)\n",
    "    sum=tf.add(var1,var2)\n",
    "    sess.run(tf.compat.v1.global_variables_initializer())\n",
    "    print(sess.run(sum))\n",
    "    assign=var1.assign(2000.6)\n",
    "    sess.run(assign)\n",
    "    print(sess.run(sum))"
   ]
  },
  {
   "cell_type": "code",
   "execution_count": 66,
   "id": "def4bec1",
   "metadata": {},
   "outputs": [
    {
     "name": "stdout",
     "output_type": "stream",
     "text": [
      "<class 'tensorflow.python.framework.ops.Tensor'>\n",
      "[[320 640]]\n",
      "[[30 60]]\n"
     ]
    }
   ],
   "source": [
    "#placeholders\n",
    "with tf.compat.v1.Session()  as sess:\n",
    "    x=tf.compat.v1.placeholder(tf.int32,shape={1,2})\n",
    "    y=x*tf.constant(32)\n",
    "    v=3*x\n",
    "    print(type(v))\n",
    "    print(sess.run(y,feed_dict={x:[[10,20]]}))\n",
    "    print(sess.run(v,feed_dict={x:[[10,20]]}))"
   ]
  },
  {
   "cell_type": "code",
   "execution_count": null,
   "id": "243149ab",
   "metadata": {},
   "outputs": [],
   "source": []
  }
 ],
 "metadata": {
  "kernelspec": {
   "display_name": "Python [conda env:.conda-gputest]",
   "language": "python",
   "name": "conda-env-.conda-gputest-py"
  },
  "language_info": {
   "codemirror_mode": {
    "name": "ipython",
    "version": 3
   },
   "file_extension": ".py",
   "mimetype": "text/x-python",
   "name": "python",
   "nbconvert_exporter": "python",
   "pygments_lexer": "ipython3",
   "version": "3.7.5"
  }
 },
 "nbformat": 4,
 "nbformat_minor": 5
}
